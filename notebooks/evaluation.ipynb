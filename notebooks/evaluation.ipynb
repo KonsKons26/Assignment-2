{
 "cells": [
  {
   "cell_type": "code",
   "execution_count": 1,
   "id": "b2f11952",
   "metadata": {},
   "outputs": [
    {
     "name": "stdout",
     "output_type": "stream",
     "text": [
      "/home/cotsios/dsit/2nd-semester/ml-in-comp-bio/Assignment-2\n"
     ]
    }
   ],
   "source": [
    "import sys\n",
    "import os\n",
    "\n",
    "\n",
    "sys.path.append(os.path.abspath(os.path.join(os.getcwd(), \"..\")))\n",
    "print(sys.path[-1])"
   ]
  },
  {
   "cell_type": "code",
   "execution_count": null,
   "id": "a9ff3483",
   "metadata": {},
   "outputs": [],
   "source": [
    "from src.classifiers import  validate\n",
    "from src.visualizations import visualize_training_summary_boxplots, tabulate_hyperparameter_spaces, visualize_bootstrap_results\n",
    "import pandas as pd"
   ]
  },
  {
   "cell_type": "code",
   "execution_count": null,
   "id": "efd03794",
   "metadata": {},
   "outputs": [],
   "source": []
  },
  {
   "cell_type": "code",
   "execution_count": null,
   "id": "9c5ba0c3",
   "metadata": {},
   "outputs": [],
   "source": [
    "# dfLR = pd.read_csv(\n",
    "#     os.path.join(RESULTS_DIR, \"LogisticRegression_summary.csv\")\n",
    "# )\n",
    "# dfGNB = pd.read_csv(\n",
    "#     os.path.join(RESULTS_DIR, \"GaussianNB_summary.csv\")\n",
    "# )\n",
    "# dfLDA = pd.read_csv(\n",
    "#     os.path.join(RESULTS_DIR, \"LinearDiscriminantAnalysis_summary.csv\")\n",
    "# )\n",
    "# dfSVC = pd.read_csv(\n",
    "#     os.path.join(RESULTS_DIR, \"SVC_summary.csv\")\n",
    "# )\n",
    "# dfRF = pd.read_csv(\n",
    "#     os.path.join(RESULTS_DIR, \"RandomForestClassifier_summary.csv\")\n",
    "# )\n",
    "# dfLGBM = pd.read_csv(\n",
    "#     os.path.join(RESULTS_DIR, \"LGBMClassifier_summary.csv\")\n",
    "# )\n",
    "\n",
    "# visualize_training_summary_boxplots(\n",
    "#     names=[\n",
    "#         \"LogisticRegression\", \"GaussianNB\", \"LinearDiscriminantAnalysis\",\n",
    "#         \"SVC\", \"RandomForest\", \"LightGBM\"\n",
    "#     ],\n",
    "#     dfs=[dfLR, dfGNB, dfLDA, dfSVC, dfRF, dfLGBM],\n",
    "#     boxplot_kws={\n",
    "#         \"figsize\": (20, 10),\n",
    "#         \"metrics\": [\n",
    "#             \"balanced_accuracy\", \"accuracy\", \"precision\", \"recall\",\n",
    "#             \"specificity\", \"matthews_corrcoef\", \"f1\", \"roc_auc\"\n",
    "#         ],\n",
    "#         \"showmeans\": True,\n",
    "#         \"meanprops\": {\n",
    "#             \"marker\": \"X\", \"markerfacecolor\": \"white\",\n",
    "#             \"markeredgecolor\": \"black\", \"markersize\": 15\n",
    "#         },\n",
    "#         \"boxprops\": {\n",
    "#             \"linewidth\": 3, \"color\": \"#3486eb\"\n",
    "#         },\n",
    "#         \"medianprops\": {\n",
    "#             \"color\": \"black\", \"linewidth\": 3\n",
    "#         },\n",
    "#         \"flierprops\": {\n",
    "#             \"markerfacecolor\": \"red\", \"markeredgecolor\": \"white\",\n",
    "#             \"markersize\": 10\n",
    "#         },\n",
    "#         \"wiswidth\": 3\n",
    "#     }\n",
    "# )"
   ]
  },
  {
   "cell_type": "code",
   "execution_count": null,
   "id": "f452b3f0",
   "metadata": {},
   "outputs": [],
   "source": [
    "# tabulate_hyperparameter_spaces(\n",
    "#     [\n",
    "#         \"LogisticRegression\",\n",
    "#         \"GaussianNB\",\n",
    "#         \"LinearDiscriminantAnalysis\",\n",
    "#         \"SVC\",\n",
    "#         \"RandomForestClassifier\",\n",
    "#         \"LGBMClassifier\"\n",
    "#     ],\n",
    "#     [\n",
    "#         os.path.join(MODELS_DIR, \"LogisticRegression_params.json\"),\n",
    "#         os.path.join(MODELS_DIR, \"GaussianNB_params.json\"),\n",
    "#         os.path.join(MODELS_DIR, \"LinearDiscriminantAnalysis_params.json\"),\n",
    "#         os.path.join(MODELS_DIR, \"SVC_params.json\"),\n",
    "#         os.path.join(MODELS_DIR, \"RandomForestClassifier_params.json\"),\n",
    "#         os.path.join(MODELS_DIR, \"LGBMClassifier_params.json\")\n",
    "#     ]\n",
    "# )"
   ]
  },
  {
   "cell_type": "code",
   "execution_count": null,
   "id": "d48eaf1a",
   "metadata": {},
   "outputs": [],
   "source": [
    "# # Validate the top model's performance against the holdout set\n",
    "# y, y_pred, d = validate(\n",
    "#         models_dir=MODELS_DIR,\n",
    "#         model_name=\"LinearDiscriminantAnalysis\",\n",
    "#         target=\"diagnosis\",\n",
    "#         n_bootstraps=1000,\n",
    "#         data_dir=DATA_DIR,\n",
    "#         file_name=\"validation_set.csv\",\n",
    "#         fs_method=None\n",
    "#     )"
   ]
  },
  {
   "cell_type": "code",
   "execution_count": null,
   "id": "3f178f8e",
   "metadata": {},
   "outputs": [],
   "source": [
    "# visualize_bootstrap_results(\n",
    "#     d\n",
    "# )"
   ]
  },
  {
   "cell_type": "code",
   "execution_count": null,
   "id": "f466068d",
   "metadata": {},
   "outputs": [],
   "source": []
  }
 ],
 "metadata": {
  "kernelspec": {
   "display_name": ".venv",
   "language": "python",
   "name": "python3"
  },
  "language_info": {
   "codemirror_mode": {
    "name": "ipython",
    "version": 3
   },
   "file_extension": ".py",
   "mimetype": "text/x-python",
   "name": "python",
   "nbconvert_exporter": "python",
   "pygments_lexer": "ipython3",
   "version": "3.12.3"
  }
 },
 "nbformat": 4,
 "nbformat_minor": 5
}
