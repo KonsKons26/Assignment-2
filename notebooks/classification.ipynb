{
 "cells": [
  {
   "cell_type": "code",
   "execution_count": null,
   "id": "f0403bed",
   "metadata": {},
   "outputs": [],
   "source": [
    "import sys\n",
    "import os\n",
    "\n",
    "\n",
    "sys.path.append(os.path.abspath(os.path.join(os.getcwd(), \"..\")))\n",
    "print(sys.path[-1])"
   ]
  },
  {
   "cell_type": "code",
   "execution_count": null,
   "id": "53d0ae1b",
   "metadata": {},
   "outputs": [],
   "source": [
    "from src.classifiers import pipeline\n",
    "import pandas as pd"
   ]
  },
  {
   "cell_type": "code",
   "execution_count": null,
   "id": "b6454572",
   "metadata": {},
   "outputs": [],
   "source": [
    "BASE_DIR = os.path.abspath(os.path.join(os.getcwd(), \"..\"))\n",
    "DATA_DIR = os.path.join(BASE_DIR, \"data\")\n",
    "MODELS_DIR = os.path.join(BASE_DIR, \"models\")\n",
    "RESULTS_DIR = os.path.join(BASE_DIR, \"results\")\n",
    "CLASSIFIERS = [\n",
    "    \"LogisticRegression\",\n",
    "    \"GaussianNB\",\n",
    "    \"LinearDiscriminantAnalysis\",\n",
    "    \"SVC\",\n",
    "    \"RandomForestClassifier\",\n",
    "    \"LGBMClassifier\"\n",
    "]\n",
    "DF = pd.read_csv(os.path.join(DATA_DIR, \"breast_cancer.csv\"))\n",
    "TARGET = \"diagnosis\"\n",
    "N_ROUNDS = 10\n",
    "N_OUTER_FOLDS = 5\n",
    "N_INNER_FOLDS = 3\n",
    "N_FEATURES_TO_SELECT = 5\n",
    "N_OPTUNA_TRIALS = 50\n",
    "VALIDATION_SET_FRACTION = 0.1\n",
    "SEED = 42"
   ]
  },
  {
   "cell_type": "code",
   "execution_count": null,
   "id": "f094d3bd",
   "metadata": {},
   "outputs": [],
   "source": [
    "val_set = pipeline(\n",
    "        classifiers=CLASSIFIERS,\n",
    "        df=DF,\n",
    "        target=TARGET,\n",
    "        models_dir=MODELS_DIR,\n",
    "        results_dir=RESULTS_DIR,\n",
    "        n_rounds=N_ROUNDS,\n",
    "        n_outer_folds=N_OUTER_FOLDS,\n",
    "        n_inner_folds=N_INNER_FOLDS,\n",
    "        n_features_to_select=N_FEATURES_TO_SELECT,\n",
    "        n_optuna_trials=N_OPTUNA_TRIALS,\n",
    "        validation_set_fraction=VALIDATION_SET_FRACTION,\n",
    "        seed=SEED\n",
    ")"
   ]
  }
 ],
 "metadata": {
  "kernelspec": {
   "display_name": ".venv",
   "language": "python",
   "name": "python3"
  },
  "language_info": {
   "codemirror_mode": {
    "name": "ipython",
    "version": 3
   },
   "file_extension": ".py",
   "mimetype": "text/x-python",
   "name": "python",
   "nbconvert_exporter": "python",
   "pygments_lexer": "ipython3",
   "version": "3.12.3"
  }
 },
 "nbformat": 4,
 "nbformat_minor": 5
}
